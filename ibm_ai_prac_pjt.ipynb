{
 "cells": [
  {
   "cell_type": "markdown",
   "id": "c237ced6",
   "metadata": {},
   "source": [
    "# Project Background:\n",
    "\n",
    "#### Companies often receive thousands of resumes for each job posting and employ dedicated screening officers to screen qualified candidates.\n",
    "\n",
    "#### Hiring the right talent is a challenge for all businesses. This challenge is magnified by the high volume of applicants if the business is labour-intensive, growing, and facing high attrition rates.\n",
    "\n",
    "#### IT departments are short of growing markets. In a typical service organization, professionals with a variety of technical skills and business domain expertise are hired and assigned to projects to resolve customer issues. This task of selecting the best talent among many others is known as Resume Screening.\n",
    "\n",
    "<img src=\"giphy.gif\">"
   ]
  },
  {
   "cell_type": "code",
   "execution_count": 1,
   "id": "f40cc376",
   "metadata": {},
   "outputs": [],
   "source": [
    "import numpy as np\n",
    "import pandas as pd\n",
    "import matplotlib.pyplot as plt\n",
    "import seaborn as sns\n",
    "import re\n",
    "\n",
    "import nltk\n",
    "# nltk.download('wordnet')\n",
    "# nltk.download('punkt')\n",
    "# nltk.download('stopwords')\n",
    "\n",
    "from nltk import bigrams\n",
    "from nltk.stem import WordNetLemmatizer\n",
    "from nltk import word_tokenize\n",
    "\n",
    "import docx2txt\n",
    "import os\n",
    "\n",
    "from sklearn.feature_extraction.text import CountVectorizer, TfidfTransformer, TfidfVectorizer\n",
    "from sklearn.metrics.pairwise import cosine_similarity as cos_sim"
   ]
  },
  {
   "cell_type": "code",
   "execution_count": 2,
   "id": "78e00f35",
   "metadata": {},
   "outputs": [],
   "source": [
    "df_resume = pd.read_csv('resume_dataset.csv')"
   ]
  },
  {
   "cell_type": "markdown",
   "id": "04051bdc",
   "metadata": {},
   "source": [
    "# Objective 1: Explore Data, Data Cleaning & Pre-processing"
   ]
  },
  {
   "cell_type": "markdown",
   "id": "f5def504",
   "metadata": {},
   "source": [
    "## Read Dataset to DataFrame"
   ]
  },
  {
   "cell_type": "code",
   "execution_count": 3,
   "id": "b2a53513",
   "metadata": {},
   "outputs": [],
   "source": [
    "# jd_df = pd.read_csv('jd_data.csv', encoding='cp1252')\n",
    "# jd_df.rename(columns = {'JD':'Resume'}, inplace=True)"
   ]
  },
  {
   "cell_type": "markdown",
   "id": "84d1a780",
   "metadata": {},
   "source": [
    "## Exploratory Data Visualization"
   ]
  },
  {
   "cell_type": "markdown",
   "id": "fbcacffc",
   "metadata": {},
   "source": [
    "### Dataset Size"
   ]
  },
  {
   "cell_type": "code",
   "execution_count": 4,
   "id": "2be40dbf",
   "metadata": {},
   "outputs": [
    {
     "data": {
      "text/html": [
       "<div>\n",
       "<style scoped>\n",
       "    .dataframe tbody tr th:only-of-type {\n",
       "        vertical-align: middle;\n",
       "    }\n",
       "\n",
       "    .dataframe tbody tr th {\n",
       "        vertical-align: top;\n",
       "    }\n",
       "\n",
       "    .dataframe thead th {\n",
       "        text-align: right;\n",
       "    }\n",
       "</style>\n",
       "<table border=\"1\" class=\"dataframe\">\n",
       "  <thead>\n",
       "    <tr style=\"text-align: right;\">\n",
       "      <th></th>\n",
       "      <th>Category</th>\n",
       "      <th>Resume</th>\n",
       "    </tr>\n",
       "  </thead>\n",
       "  <tbody>\n",
       "    <tr>\n",
       "      <th>0</th>\n",
       "      <td>Data Science</td>\n",
       "      <td>Skills * Programming Languages: Python (pandas...</td>\n",
       "    </tr>\n",
       "    <tr>\n",
       "      <th>1</th>\n",
       "      <td>Data Science</td>\n",
       "      <td>Education Details \\r\\nMay 2013 to May 2017 B.E...</td>\n",
       "    </tr>\n",
       "    <tr>\n",
       "      <th>2</th>\n",
       "      <td>Data Science</td>\n",
       "      <td>Areas of Interest Deep Learning, Control Syste...</td>\n",
       "    </tr>\n",
       "    <tr>\n",
       "      <th>3</th>\n",
       "      <td>Data Science</td>\n",
       "      <td>Skills â¢ R â¢ Python â¢ SAP HANA â¢ Table...</td>\n",
       "    </tr>\n",
       "    <tr>\n",
       "      <th>4</th>\n",
       "      <td>Data Science</td>\n",
       "      <td>Education Details \\r\\n MCA   YMCAUST,  Faridab...</td>\n",
       "    </tr>\n",
       "    <tr>\n",
       "      <th>...</th>\n",
       "      <td>...</td>\n",
       "      <td>...</td>\n",
       "    </tr>\n",
       "    <tr>\n",
       "      <th>957</th>\n",
       "      <td>Testing</td>\n",
       "      <td>Computer Skills: â¢ Proficient in MS office (...</td>\n",
       "    </tr>\n",
       "    <tr>\n",
       "      <th>958</th>\n",
       "      <td>Testing</td>\n",
       "      <td>â Willingness to accept the challenges. â ...</td>\n",
       "    </tr>\n",
       "    <tr>\n",
       "      <th>959</th>\n",
       "      <td>Testing</td>\n",
       "      <td>PERSONAL SKILLS â¢ Quick learner, â¢ Eagerne...</td>\n",
       "    </tr>\n",
       "    <tr>\n",
       "      <th>960</th>\n",
       "      <td>Testing</td>\n",
       "      <td>COMPUTER SKILLS &amp; SOFTWARE KNOWLEDGE MS-Power ...</td>\n",
       "    </tr>\n",
       "    <tr>\n",
       "      <th>961</th>\n",
       "      <td>Testing</td>\n",
       "      <td>Skill Set OS Windows XP/7/8/8.1/10 Database MY...</td>\n",
       "    </tr>\n",
       "  </tbody>\n",
       "</table>\n",
       "<p>962 rows × 2 columns</p>\n",
       "</div>"
      ],
      "text/plain": [
       "         Category                                             Resume\n",
       "0    Data Science  Skills * Programming Languages: Python (pandas...\n",
       "1    Data Science  Education Details \\r\\nMay 2013 to May 2017 B.E...\n",
       "2    Data Science  Areas of Interest Deep Learning, Control Syste...\n",
       "3    Data Science  Skills â¢ R â¢ Python â¢ SAP HANA â¢ Table...\n",
       "4    Data Science  Education Details \\r\\n MCA   YMCAUST,  Faridab...\n",
       "..            ...                                                ...\n",
       "957       Testing  Computer Skills: â¢ Proficient in MS office (...\n",
       "958       Testing  â Willingness to accept the challenges. â ...\n",
       "959       Testing  PERSONAL SKILLS â¢ Quick learner, â¢ Eagerne...\n",
       "960       Testing  COMPUTER SKILLS & SOFTWARE KNOWLEDGE MS-Power ...\n",
       "961       Testing  Skill Set OS Windows XP/7/8/8.1/10 Database MY...\n",
       "\n",
       "[962 rows x 2 columns]"
      ]
     },
     "execution_count": 4,
     "metadata": {},
     "output_type": "execute_result"
    }
   ],
   "source": [
    "df_resume"
   ]
  },
  {
   "cell_type": "code",
   "execution_count": 5,
   "id": "99d8c516",
   "metadata": {},
   "outputs": [
    {
     "data": {
      "text/plain": [
       "(962, 2)"
      ]
     },
     "execution_count": 5,
     "metadata": {},
     "output_type": "execute_result"
    }
   ],
   "source": [
    "df_resume.shape"
   ]
  },
  {
   "cell_type": "code",
   "execution_count": 6,
   "id": "6177c038",
   "metadata": {},
   "outputs": [
    {
     "data": {
      "text/html": [
       "<div>\n",
       "<style scoped>\n",
       "    .dataframe tbody tr th:only-of-type {\n",
       "        vertical-align: middle;\n",
       "    }\n",
       "\n",
       "    .dataframe tbody tr th {\n",
       "        vertical-align: top;\n",
       "    }\n",
       "\n",
       "    .dataframe thead th {\n",
       "        text-align: right;\n",
       "    }\n",
       "</style>\n",
       "<table border=\"1\" class=\"dataframe\">\n",
       "  <thead>\n",
       "    <tr style=\"text-align: right;\">\n",
       "      <th></th>\n",
       "      <th>Category</th>\n",
       "      <th>Resume</th>\n",
       "    </tr>\n",
       "  </thead>\n",
       "  <tbody>\n",
       "    <tr>\n",
       "      <th>864</th>\n",
       "      <td>Blockchain</td>\n",
       "      <td>KEY SKILLS: Programing languages: C, C++, Pyth...</td>\n",
       "    </tr>\n",
       "    <tr>\n",
       "      <th>934</th>\n",
       "      <td>Testing</td>\n",
       "      <td>â¢ Good logical and analytical skills â¢ Pos...</td>\n",
       "    </tr>\n",
       "    <tr>\n",
       "      <th>863</th>\n",
       "      <td>Blockchain</td>\n",
       "      <td>Skills Strong CS fundamentals and problem solv...</td>\n",
       "    </tr>\n",
       "    <tr>\n",
       "      <th>722</th>\n",
       "      <td>Database</td>\n",
       "      <td>TECHNICAL SKILLS Operating Systems MS Windows ...</td>\n",
       "    </tr>\n",
       "    <tr>\n",
       "      <th>436</th>\n",
       "      <td>SAP Developer</td>\n",
       "      <td>Education Details \\r\\n\\r\\nSAP Technical Archit...</td>\n",
       "    </tr>\n",
       "  </tbody>\n",
       "</table>\n",
       "</div>"
      ],
      "text/plain": [
       "          Category                                             Resume\n",
       "864     Blockchain  KEY SKILLS: Programing languages: C, C++, Pyth...\n",
       "934        Testing  â¢ Good logical and analytical skills â¢ Pos...\n",
       "863     Blockchain  Skills Strong CS fundamentals and problem solv...\n",
       "722       Database  TECHNICAL SKILLS Operating Systems MS Windows ...\n",
       "436  SAP Developer  Education Details \\r\\n\\r\\nSAP Technical Archit..."
      ]
     },
     "execution_count": 6,
     "metadata": {},
     "output_type": "execute_result"
    }
   ],
   "source": [
    "df_resume.sample(5)"
   ]
  },
  {
   "cell_type": "markdown",
   "id": "98f9ff56",
   "metadata": {},
   "source": [
    "### Distribution of Job Categories"
   ]
  },
  {
   "cell_type": "code",
   "execution_count": 7,
   "id": "869bc67b",
   "metadata": {},
   "outputs": [
    {
     "data": {
      "image/png": "[encoded data removed]",
      "text/plain": [
       "<Figure size 1440x360 with 1 Axes>"
      ]
     },
     "metadata": {
      "needs_background": "light"
     },
     "output_type": "display_data"
    }
   ],
   "source": [
    "plt.figure(figsize=(20,5))\n",
    "plt.xticks(rotation=90)\n",
    "ax=sns.countplot(x=\"Category\", data=df_resume, order=df_resume['Category'].value_counts().index, palette=\"husl\")\n",
    "for p in ax.patches:\n",
    "    ax.annotate(str(p.get_height()), (p.get_x() * 1.01 , p.get_height() * 1.01))\n",
    "plt.grid()"
   ]
  },
  {
   "cell_type": "markdown",
   "id": "db78b99b",
   "metadata": {},
   "source": [
    "## Data Cleaning"
   ]
  },
  {
   "cell_type": "markdown",
   "id": "6701a227",
   "metadata": {},
   "source": [
    "### Removed Unusual Characters using Regular Expression (Regex)"
   ]
  },
  {
   "cell_type": "code",
   "execution_count": 8,
   "id": "639c42dd",
   "metadata": {},
   "outputs": [],
   "source": [
    "def unusual_text_remover(text):\n",
    "    text = re.sub('â\\x80¢Â', ' ', text)\n",
    "    text = re.sub('â\\x9c¶', ' ', text)\n",
    "    text = re.sub('Ã¼Â', ' ', text)\n",
    "    text = re.sub('Â', '', text)\n",
    "    text = re.sub('Ã¼', '', text)\n",
    "    text = re.sub('ï', '', text)\n",
    "    text = re.sub('â', '', text)\n",
    "    text = (re.sub('[\\W]+', ' ', text.lower()))\n",
    "    return text"
   ]
  },
  {
   "cell_type": "code",
   "execution_count": 9,
   "id": "ed85a024",
   "metadata": {},
   "outputs": [],
   "source": [
    "usual_text = df_resume['Resume'].apply(unusual_text_remover)"
   ]
  },
  {
   "cell_type": "code",
   "execution_count": 10,
   "id": "86069e5f",
   "metadata": {},
   "outputs": [],
   "source": [
    "df_resume['Processed_Resume'] = df_resume['Resume'].apply(unusual_text_remover)"
   ]
  },
  {
   "cell_type": "markdown",
   "id": "1bb3c959",
   "metadata": {},
   "source": [
    "## Data Preprocessing"
   ]
  },
  {
   "cell_type": "markdown",
   "id": "7b0b56d1",
   "metadata": {},
   "source": [
    "### Convert root word using Lemmatization"
   ]
  },
  {
   "cell_type": "code",
   "execution_count": 11,
   "id": "c3951628",
   "metadata": {},
   "outputs": [],
   "source": [
    "def lemmatization(text):\n",
    "    lemmatizer = WordNetLemmatizer()\n",
    "    word_list = word_tokenize(text)\n",
    "    output = ' '.join([lemmatizer.lemmatize(word) for word in word_list])\n",
    "    return output"
   ]
  },
  {
   "cell_type": "code",
   "execution_count": 12,
   "id": "24ede9f9",
   "metadata": {},
   "outputs": [],
   "source": [
    "lemmatized_text = usual_text.apply(lemmatization)"
   ]
  },
  {
   "cell_type": "code",
   "execution_count": 13,
   "id": "0d498138",
   "metadata": {},
   "outputs": [],
   "source": [
    "df_resume['Processed_Resume'] = df_resume['Processed_Resume'].apply(lemmatization)"
   ]
  },
  {
   "cell_type": "markdown",
   "id": "481d8080",
   "metadata": {},
   "source": [
    "### Resume before data cleaning and preprocessing (in-progress)"
   ]
  },
  {
   "cell_type": "code",
   "execution_count": 14,
   "id": "e6eab47d",
   "metadata": {},
   "outputs": [
    {
     "data": {
      "text/plain": [
       "'Personal Skills â\\x9e¢ Ability to quickly grasp technical aspects and willingness to learn â\\x9e¢ High energy levels & Result oriented. Education Details \\r\\nJanuary 2018 Master of Engineering Computer Technology & Application Bhopal, Madhya Pradesh Truba Institute of Engineering & Information Technology\\r\\nJanuary 2010 B.E. computer science Bhopal, Madhya Pradesh RKDF Institute of Science and Technology College of Engineering\\r\\nJanuary 2006 Polytechnic Information Technology Vidisha, Madhya Pradesh SATI Engineering College in Vidisha\\r\\nJanuary 2003 M.tech Thesis Detail  BMCH School in Ganj basoda\\r\\nData science \\r\\n\\r\\nI have six month experience in Data Science. Key Skills: - Experience in Machine Learning, Deep Leaning, NLP, Python, SQL, Web Scraping Good knowledge in computer subjects and ability to update\\r\\nSkill Details \\r\\nExperience in Machine Learning, Deep Learning, NLP, Python, SQL, Web Crawling, HTML,CSS.- Exprience - Less than 1 year monthsCompany Details \\r\\ncompany - RNT.AI Technology Solution\\r\\ndescription - Text classification using Machine learning Algorithms with python.\\r\\nPractical knowledge of Deep learning algorithms such as Â\\xa0Recurrent Neural Networks(RNN).\\r\\nDevelop custom data models and algorithms to apply to dataset\\r\\nExperience with Python packages like Pandas, Scikit-learn, Tensor Flow, Numpy, Matplotliv, NLTK.\\r\\nComfort with SQL, Â\\xa0MYSQL\\r\\nSentiment analysis.\\r\\nÂ\\xa0Apply leave Dataset using classification technique like Tf--idf , LSA with cosine similarity using Machine learning Algorithms.\\r\\nWeb crawling using Selenium web driver and Beautiful Soup with python.\\r\\ncompany - Life Insurance Corporation of India Bhopal\\r\\ndescription - Ã¼Â\\xa0Explaining policy features and the benefits\\r\\nÃ¼ Updated knowledge of life insurance products and shared with customers'"
      ]
     },
     "execution_count": 14,
     "metadata": {},
     "output_type": "execute_result"
    }
   ],
   "source": [
    "df_resume.iloc[18,1]"
   ]
  },
  {
   "cell_type": "markdown",
   "id": "9253d2c9",
   "metadata": {},
   "source": [
    "### Resume after data cleaning "
   ]
  },
  {
   "cell_type": "code",
   "execution_count": 15,
   "id": "4d6400a1",
   "metadata": {},
   "outputs": [
    {
     "data": {
      "text/plain": [
       "'personal skills ability to quickly grasp technical aspects and willingness to learn high energy levels result oriented education details january 2018 master of engineering computer technology application bhopal madhya pradesh truba institute of engineering information technology january 2010 b e computer science bhopal madhya pradesh rkdf institute of science and technology college of engineering january 2006 polytechnic information technology vidisha madhya pradesh sati engineering college in vidisha january 2003 m tech thesis detail bmch school in ganj basoda data science i have six month experience in data science key skills experience in machine learning deep leaning nlp python sql web scraping good knowledge in computer subjects and ability to update skill details experience in machine learning deep learning nlp python sql web crawling html css exprience less than 1 year monthscompany details company rnt ai technology solution description text classification using machine learning algorithms with python practical knowledge of deep learning algorithms such as recurrent neural networks rnn develop custom data models and algorithms to apply to dataset experience with python packages like pandas scikit learn tensor flow numpy matplotliv nltk comfort with sql mysql sentiment analysis apply leave dataset using classification technique like tf idf lsa with cosine similarity using machine learning algorithms web crawling using selenium web driver and beautiful soup with python company life insurance corporation of india bhopal description explaining policy features and the benefits updated knowledge of life insurance products and shared with customers'"
      ]
     },
     "execution_count": 15,
     "metadata": {},
     "output_type": "execute_result"
    }
   ],
   "source": [
    "usual_text[18]"
   ]
  },
  {
   "cell_type": "markdown",
   "id": "3fce2c03",
   "metadata": {},
   "source": [
    "### Resume after data cleaning and preprocessing (in-progress)"
   ]
  },
  {
   "cell_type": "code",
   "execution_count": 16,
   "id": "cfddb3a4",
   "metadata": {},
   "outputs": [
    {
     "data": {
      "text/plain": [
       "'personal skill ability to quickly grasp technical aspect and willingness to learn high energy level result oriented education detail january 2018 master of engineering computer technology application bhopal madhya pradesh truba institute of engineering information technology january 2010 b e computer science bhopal madhya pradesh rkdf institute of science and technology college of engineering january 2006 polytechnic information technology vidisha madhya pradesh sati engineering college in vidisha january 2003 m tech thesis detail bmch school in ganj basoda data science i have six month experience in data science key skill experience in machine learning deep leaning nlp python sql web scraping good knowledge in computer subject and ability to update skill detail experience in machine learning deep learning nlp python sql web crawling html cs exprience le than 1 year monthscompany detail company rnt ai technology solution description text classification using machine learning algorithm with python practical knowledge of deep learning algorithm such a recurrent neural network rnn develop custom data model and algorithm to apply to dataset experience with python package like panda scikit learn tensor flow numpy matplotliv nltk comfort with sql mysql sentiment analysis apply leave dataset using classification technique like tf idf lsa with cosine similarity using machine learning algorithm web crawling using selenium web driver and beautiful soup with python company life insurance corporation of india bhopal description explaining policy feature and the benefit updated knowledge of life insurance product and shared with customer'"
      ]
     },
     "execution_count": 16,
     "metadata": {},
     "output_type": "execute_result"
    }
   ],
   "source": [
    "lemmatized_text[18]"
   ]
  },
  {
   "cell_type": "markdown",
   "id": "8e0905d4",
   "metadata": {},
   "source": [
    "## Filter Resume based on keywords and Job Title"
   ]
  },
  {
   "cell_type": "code",
   "execution_count": 17,
   "id": "4b282c46",
   "metadata": {},
   "outputs": [],
   "source": [
    "# df_filtered = pd.DataFrame()  \n",
    "\n",
    "# key_words = ['12 month', '1 year', 'python']\n",
    "# role = 'Data Science'\n",
    "\n",
    "# for idx in range(df_resume.shape[0]):\n",
    "#     sentence = df_resume['Processed_Resume'][idx]  \n",
    "#     twogram = bigrams(sentence.split())\n",
    "#     for gram in twogram:\n",
    "#         try:\n",
    "#             if (gram[0] + ' ' + gram[1]) in key_words and df_resume.iloc[[idx]]['Category'].values[0] == role:\n",
    "#                     df_filtered =  df_filtered.append(df_resume.iloc[[idx]])\n",
    "        \n",
    "#         except KeyError:\n",
    "#             df_filtered =  df_filtered.append(df_resume.iloc[[idx]])\n",
    "             \n",
    "# df_filtered.drop_duplicates(subset=['Processed_Resume'], inplace=True)\n",
    "      "
   ]
  },
  {
   "cell_type": "markdown",
   "id": "48f570d7",
   "metadata": {},
   "source": [
    "### Write Dataframe to csv file"
   ]
  },
  {
   "cell_type": "code",
   "execution_count": 18,
   "id": "c93ae667",
   "metadata": {},
   "outputs": [],
   "source": [
    "# df_filtered.to_csv('filtered_resume.csv')"
   ]
  },
  {
   "cell_type": "markdown",
   "id": "24904ea3",
   "metadata": {},
   "source": [
    "# Objective 2: Classify Job Category from Incoming Resume"
   ]
  },
  {
   "cell_type": "code",
   "execution_count": 19,
   "id": "c9950933",
   "metadata": {},
   "outputs": [],
   "source": [
    "from nltk.corpus import stopwords\n",
    "\n",
    "from sklearn.model_selection import train_test_split\n",
    "from sklearn.neighbors import KNeighborsClassifier\n",
    "from sklearn.multiclass import OneVsRestClassifier\n",
    "from sklearn.metrics import accuracy_score\n",
    "from sklearn import metrics\n",
    "\n",
    "from wordcloud import WordCloud"
   ]
  },
  {
   "cell_type": "markdown",
   "id": "0b350120",
   "metadata": {},
   "source": [
    "## Data Preprocessing "
   ]
  },
  {
   "cell_type": "markdown",
   "id": "720efcfb",
   "metadata": {},
   "source": [
    "### Remove Stop-words in Resume"
   ]
  },
  {
   "cell_type": "code",
   "execution_count": 20,
   "id": "89c96a9f",
   "metadata": {},
   "outputs": [],
   "source": [
    "stop = stopwords.words('english')"
   ]
  },
  {
   "cell_type": "code",
   "execution_count": 21,
   "id": "0b698fda",
   "metadata": {},
   "outputs": [],
   "source": [
    "total_words =[]\n",
    "sentences = []\n",
    "for text in df_resume['Processed_Resume']:\n",
    "    word_list = word_tokenize(text)\n",
    "    para = [word for word in word_list if word not in stop]\n",
    "    sentences.append(' '.join(para))\n",
    "    total_words = total_words + para\n"
   ]
  },
  {
   "cell_type": "code",
   "execution_count": 22,
   "id": "a3856483",
   "metadata": {},
   "outputs": [],
   "source": [
    "job_category_list = df_resume['Category'].values.tolist()"
   ]
  },
  {
   "cell_type": "code",
   "execution_count": 23,
   "id": "2631655b",
   "metadata": {},
   "outputs": [
    {
     "data": {
      "text/html": [
       "<div>\n",
       "<style scoped>\n",
       "    .dataframe tbody tr th:only-of-type {\n",
       "        vertical-align: middle;\n",
       "    }\n",
       "\n",
       "    .dataframe tbody tr th {\n",
       "        vertical-align: top;\n",
       "    }\n",
       "\n",
       "    .dataframe thead th {\n",
       "        text-align: right;\n",
       "    }\n",
       "</style>\n",
       "<table border=\"1\" class=\"dataframe\">\n",
       "  <thead>\n",
       "    <tr style=\"text-align: right;\">\n",
       "      <th></th>\n",
       "      <th>Job_Category</th>\n",
       "      <th>Processed_Resume</th>\n",
       "    </tr>\n",
       "  </thead>\n",
       "  <tbody>\n",
       "    <tr>\n",
       "      <th>0</th>\n",
       "      <td>Data Science</td>\n",
       "      <td>skill programming language python panda numpy ...</td>\n",
       "    </tr>\n",
       "    <tr>\n",
       "      <th>1</th>\n",
       "      <td>Data Science</td>\n",
       "      <td>education detail may 2013 may 2017 b e uit rgp...</td>\n",
       "    </tr>\n",
       "    <tr>\n",
       "      <th>2</th>\n",
       "      <td>Data Science</td>\n",
       "      <td>area interest deep learning control system des...</td>\n",
       "    </tr>\n",
       "    <tr>\n",
       "      <th>3</th>\n",
       "      <td>Data Science</td>\n",
       "      <td>skill r python sap hana tableau sap hana sql s...</td>\n",
       "    </tr>\n",
       "    <tr>\n",
       "      <th>4</th>\n",
       "      <td>Data Science</td>\n",
       "      <td>education detail mca ymcaust faridabad haryana...</td>\n",
       "    </tr>\n",
       "    <tr>\n",
       "      <th>...</th>\n",
       "      <td>...</td>\n",
       "      <td>...</td>\n",
       "    </tr>\n",
       "    <tr>\n",
       "      <th>957</th>\n",
       "      <td>Testing</td>\n",
       "      <td>computer skill proficient office word basic ex...</td>\n",
       "    </tr>\n",
       "    <tr>\n",
       "      <th>958</th>\n",
       "      <td>Testing</td>\n",
       "      <td>willingness accept challenge positive thinking...</td>\n",
       "    </tr>\n",
       "    <tr>\n",
       "      <th>959</th>\n",
       "      <td>Testing</td>\n",
       "      <td>personal skill quick learner eagerness learn n...</td>\n",
       "    </tr>\n",
       "    <tr>\n",
       "      <th>960</th>\n",
       "      <td>Testing</td>\n",
       "      <td>computer skill software knowledge power point ...</td>\n",
       "    </tr>\n",
       "    <tr>\n",
       "      <th>961</th>\n",
       "      <td>Testing</td>\n",
       "      <td>skill set window xp 7 8 8 1 10 database mysql ...</td>\n",
       "    </tr>\n",
       "  </tbody>\n",
       "</table>\n",
       "<p>962 rows × 2 columns</p>\n",
       "</div>"
      ],
      "text/plain": [
       "     Job_Category                                   Processed_Resume\n",
       "0    Data Science  skill programming language python panda numpy ...\n",
       "1    Data Science  education detail may 2013 may 2017 b e uit rgp...\n",
       "2    Data Science  area interest deep learning control system des...\n",
       "3    Data Science  skill r python sap hana tableau sap hana sql s...\n",
       "4    Data Science  education detail mca ymcaust faridabad haryana...\n",
       "..            ...                                                ...\n",
       "957       Testing  computer skill proficient office word basic ex...\n",
       "958       Testing  willingness accept challenge positive thinking...\n",
       "959       Testing  personal skill quick learner eagerness learn n...\n",
       "960       Testing  computer skill software knowledge power point ...\n",
       "961       Testing  skill set window xp 7 8 8 1 10 database mysql ...\n",
       "\n",
       "[962 rows x 2 columns]"
      ]
     },
     "execution_count": 23,
     "metadata": {},
     "output_type": "execute_result"
    }
   ],
   "source": [
    "cleaned_resume_df = pd.DataFrame(list(zip(job_category_list, sentences)), columns=['Job_Category', 'Processed_Resume'])\n",
    "cleaned_resume_df"
   ]
  },
  {
   "cell_type": "code",
   "execution_count": 24,
   "id": "3db6d410",
   "metadata": {},
   "outputs": [],
   "source": [
    "cleaned_resume_df.to_csv('processed_resume.csv')"
   ]
  },
  {
   "cell_type": "code",
   "execution_count": 25,
   "id": "0e3f3c71",
   "metadata": {},
   "outputs": [
    {
     "data": {
      "image/png": "[encoded data removed]",
      "text/plain": [
       "<Figure size 720x720 with 1 Axes>"
      ]
     },
     "metadata": {
      "needs_background": "light"
     },
     "output_type": "display_data"
    }
   ],
   "source": [
    "wc = WordCloud().generate(' '.join(total_words))\n",
    "plt.figure(figsize=(10,10))\n",
    "plt.imshow(wc, interpolation='bilinear')\n",
    "plt.axis(\"off\")\n",
    "plt.show()      "
   ]
  },
  {
   "cell_type": "markdown",
   "id": "40788dbe",
   "metadata": {},
   "source": [
    "### Transform words into feature vectors"
   ]
  },
  {
   "cell_type": "code",
   "execution_count": 26,
   "id": "18274d78",
   "metadata": {},
   "outputs": [],
   "source": [
    "count = CountVectorizer()"
   ]
  },
  {
   "cell_type": "code",
   "execution_count": 27,
   "id": "68084622",
   "metadata": {},
   "outputs": [],
   "source": [
    "tfidf = TfidfTransformer(use_idf=True, norm = 'l2', smooth_idf =True)"
   ]
  },
  {
   "cell_type": "code",
   "execution_count": 28,
   "id": "bbb84f99",
   "metadata": {},
   "outputs": [
    {
     "data": {
      "text/plain": [
       "<962x6675 sparse matrix of type '<class 'numpy.float64'>'\n",
       "\twith 162281 stored elements in Compressed Sparse Row format>"
      ]
     },
     "execution_count": 28,
     "metadata": {},
     "output_type": "execute_result"
    }
   ],
   "source": [
    "tfidf.fit_transform(count.fit_transform(sentences))"
   ]
  },
  {
   "cell_type": "code",
   "execution_count": 29,
   "id": "89b1aa03",
   "metadata": {},
   "outputs": [],
   "source": [
    "np.set_printoptions(precision= 2)\n",
    "a = tfidf.fit_transform(count.fit_transform(sentences)).toarray()"
   ]
  },
  {
   "cell_type": "markdown",
   "id": "3947e2d3",
   "metadata": {},
   "source": [
    "### Train the model"
   ]
  },
  {
   "cell_type": "code",
   "execution_count": 30,
   "id": "c76edc83",
   "metadata": {},
   "outputs": [],
   "source": [
    "y = df_resume['Category']\n",
    "x = a"
   ]
  },
  {
   "cell_type": "code",
   "execution_count": 31,
   "id": "93df239f",
   "metadata": {},
   "outputs": [
    {
     "name": "stdout",
     "output_type": "stream",
     "text": [
      "(962,)\n",
      "(962, 6675)\n"
     ]
    }
   ],
   "source": [
    "print(y.shape)\n",
    "print(x.shape)"
   ]
  },
  {
   "cell_type": "code",
   "execution_count": 32,
   "id": "314550f4",
   "metadata": {},
   "outputs": [],
   "source": [
    "X_train,X_test,y_train,y_test = train_test_split(x, y,random_state=42, test_size=0.3,\n",
    "                                                 shuffle=True, stratify=y)"
   ]
  },
  {
   "cell_type": "code",
   "execution_count": 33,
   "id": "2304fd83",
   "metadata": {},
   "outputs": [],
   "source": [
    "# Create object clf from class OneVsRestClassifier and KNeighborsClassifier\n",
    "clf = OneVsRestClassifier(KNeighborsClassifier())\n",
    "# Input training sets into the object (model)\n",
    "clf.fit(X_train, y_train)\n",
    "# Predict target variable by using test set on the trained model\n",
    "prediction = clf.predict(X_test)"
   ]
  },
  {
   "cell_type": "code",
   "execution_count": 34,
   "id": "761e1cbe",
   "metadata": {},
   "outputs": [
    {
     "name": "stdout",
     "output_type": "stream",
     "text": [
      "0.987\n",
      "0.976\n"
     ]
    }
   ],
   "source": [
    "print(round(clf.score(X_train, y_train),3))\n",
    "print(round(clf.score(X_test, y_test),3))"
   ]
  },
  {
   "cell_type": "code",
   "execution_count": 35,
   "id": "358596b3",
   "metadata": {},
   "outputs": [
    {
     "name": "stdout",
     "output_type": "stream",
     "text": [
      "OneVsRestClassifier(estimator=KNeighborsClassifier()) \n",
      "\n",
      "                           precision    recall  f1-score   support\n",
      "\n",
      "                 Advocate       1.00      0.83      0.91         6\n",
      "                     Arts       1.00      1.00      1.00        11\n",
      "       Automation Testing       0.88      0.88      0.88         8\n",
      "               Blockchain       1.00      1.00      1.00        12\n",
      "         Business Analyst       1.00      1.00      1.00         8\n",
      "           Civil Engineer       1.00      1.00      1.00         7\n",
      "             Data Science       0.83      0.83      0.83        12\n",
      "                 Database       1.00      1.00      1.00        10\n",
      "          DevOps Engineer       1.00      0.94      0.97        17\n",
      "         DotNet Developer       1.00      1.00      1.00         8\n",
      "            ETL Developer       1.00      1.00      1.00        12\n",
      "   Electrical Engineering       0.90      1.00      0.95         9\n",
      "                       HR       0.93      1.00      0.96        13\n",
      "                   Hadoop       1.00      1.00      1.00        13\n",
      "       Health and fitness       1.00      1.00      1.00         9\n",
      "           Java Developer       0.93      1.00      0.96        25\n",
      "      Mechanical Engineer       1.00      1.00      1.00        12\n",
      "Network Security Engineer       1.00      1.00      1.00         8\n",
      "       Operations Manager       1.00      1.00      1.00        12\n",
      "                      PMO       1.00      1.00      1.00         9\n",
      "         Python Developer       1.00      1.00      1.00        14\n",
      "            SAP Developer       1.00      0.71      0.83         7\n",
      "                    Sales       1.00      1.00      1.00        12\n",
      "                  Testing       1.00      1.00      1.00        21\n",
      "            Web Designing       1.00      1.00      1.00        14\n",
      "\n",
      "                 accuracy                           0.98       289\n",
      "                macro avg       0.98      0.97      0.97       289\n",
      "             weighted avg       0.98      0.98      0.98       289\n",
      "\n"
     ]
    }
   ],
   "source": [
    "print(f'{clf} \\n')\n",
    "print(metrics.classification_report(y_test, prediction))"
   ]
  },
  {
   "cell_type": "markdown",
   "id": "a9f5e8a1",
   "metadata": {},
   "source": [
    "# Objective 3: Filter Resume based on Job Description"
   ]
  },
  {
   "cell_type": "markdown",
   "id": "b5169af3",
   "metadata": {},
   "source": [
    "## Concatenate new resumes into resume dataset"
   ]
  },
  {
   "cell_type": "code",
   "execution_count": 36,
   "id": "9166f8d7",
   "metadata": {},
   "outputs": [],
   "source": [
    "cleaned_resume_df = pd.read_csv('processed_resume.csv')"
   ]
  },
  {
   "cell_type": "code",
   "execution_count": 37,
   "id": "95440c24",
   "metadata": {},
   "outputs": [
    {
     "name": "stdout",
     "output_type": "stream",
     "text": [
      "['ChenMeiMei.docx', 'Resume - Xisi.docx', 'Resume - YangGuiFei.docx', 'Resume - ZhongWuYan.docx']\n"
     ]
    }
   ],
   "source": [
    "doc_list = [x for x in os.listdir('./resumes') if x.endswith(\".docx\")]\n",
    "print(doc_list)\n",
    "\n",
    "for doc in doc_list:\n",
    "\n",
    "        resume = docx2txt.process(f'./resumes/{doc}')\n",
    "        resume = pd.DataFrame({'Processed_Resume': resume}, index=[1])\n",
    "        cleaned_resume_df = pd.concat([cleaned_resume_df, resume], ignore_index=True)\n",
    "       "
   ]
  },
  {
   "cell_type": "code",
   "execution_count": 60,
   "id": "75866886",
   "metadata": {},
   "outputs": [
    {
     "data": {
      "text/html": [
       "<div>\n",
       "<style scoped>\n",
       "    .dataframe tbody tr th:only-of-type {\n",
       "        vertical-align: middle;\n",
       "    }\n",
       "\n",
       "    .dataframe tbody tr th {\n",
       "        vertical-align: top;\n",
       "    }\n",
       "\n",
       "    .dataframe thead th {\n",
       "        text-align: right;\n",
       "    }\n",
       "</style>\n",
       "<table border=\"1\" class=\"dataframe\">\n",
       "  <thead>\n",
       "    <tr style=\"text-align: right;\">\n",
       "      <th></th>\n",
       "      <th>Unnamed: 0</th>\n",
       "      <th>Job_Category</th>\n",
       "      <th>Processed_Resume</th>\n",
       "    </tr>\n",
       "  </thead>\n",
       "  <tbody>\n",
       "    <tr>\n",
       "      <th>0</th>\n",
       "      <td>0.0</td>\n",
       "      <td>Data Science</td>\n",
       "      <td>skill programming language python panda numpy ...</td>\n",
       "    </tr>\n",
       "    <tr>\n",
       "      <th>1</th>\n",
       "      <td>1.0</td>\n",
       "      <td>Data Science</td>\n",
       "      <td>education detail may 2013 may 2017 b e uit rgp...</td>\n",
       "    </tr>\n",
       "    <tr>\n",
       "      <th>2</th>\n",
       "      <td>2.0</td>\n",
       "      <td>Data Science</td>\n",
       "      <td>area interest deep learning control system des...</td>\n",
       "    </tr>\n",
       "    <tr>\n",
       "      <th>3</th>\n",
       "      <td>3.0</td>\n",
       "      <td>Data Science</td>\n",
       "      <td>skill r python sap hana tableau sap hana sql s...</td>\n",
       "    </tr>\n",
       "    <tr>\n",
       "      <th>4</th>\n",
       "      <td>4.0</td>\n",
       "      <td>Data Science</td>\n",
       "      <td>education detail mca ymcaust faridabad haryana...</td>\n",
       "    </tr>\n",
       "    <tr>\n",
       "      <th>...</th>\n",
       "      <td>...</td>\n",
       "      <td>...</td>\n",
       "      <td>...</td>\n",
       "    </tr>\n",
       "    <tr>\n",
       "      <th>961</th>\n",
       "      <td>961.0</td>\n",
       "      <td>Testing</td>\n",
       "      <td>skill set window xp 7 8 8 1 10 database mysql ...</td>\n",
       "    </tr>\n",
       "    <tr>\n",
       "      <th>962</th>\n",
       "      <td>NaN</td>\n",
       "      <td>NaN</td>\n",
       "      <td>candidate detail name chen mei mei notice peri...</td>\n",
       "    </tr>\n",
       "    <tr>\n",
       "      <th>963</th>\n",
       "      <td>NaN</td>\n",
       "      <td>NaN</td>\n",
       "      <td>candidate detail name xisi notice period avail...</td>\n",
       "    </tr>\n",
       "    <tr>\n",
       "      <th>964</th>\n",
       "      <td>NaN</td>\n",
       "      <td>NaN</td>\n",
       "      <td>yang gui fei 101 ang mo kio avenue 1 02 04 sin...</td>\n",
       "    </tr>\n",
       "    <tr>\n",
       "      <th>965</th>\n",
       "      <td>NaN</td>\n",
       "      <td>NaN</td>\n",
       "      <td>position business analyst personal information...</td>\n",
       "    </tr>\n",
       "  </tbody>\n",
       "</table>\n",
       "<p>966 rows × 3 columns</p>\n",
       "</div>"
      ],
      "text/plain": [
       "     Unnamed: 0  Job_Category  \\\n",
       "0           0.0  Data Science   \n",
       "1           1.0  Data Science   \n",
       "2           2.0  Data Science   \n",
       "3           3.0  Data Science   \n",
       "4           4.0  Data Science   \n",
       "..          ...           ...   \n",
       "961       961.0       Testing   \n",
       "962         NaN           NaN   \n",
       "963         NaN           NaN   \n",
       "964         NaN           NaN   \n",
       "965         NaN           NaN   \n",
       "\n",
       "                                      Processed_Resume  \n",
       "0    skill programming language python panda numpy ...  \n",
       "1    education detail may 2013 may 2017 b e uit rgp...  \n",
       "2    area interest deep learning control system des...  \n",
       "3    skill r python sap hana tableau sap hana sql s...  \n",
       "4    education detail mca ymcaust faridabad haryana...  \n",
       "..                                                 ...  \n",
       "961  skill set window xp 7 8 8 1 10 database mysql ...  \n",
       "962  candidate detail name chen mei mei notice peri...  \n",
       "963  candidate detail name xisi notice period avail...  \n",
       "964  yang gui fei 101 ang mo kio avenue 1 02 04 sin...  \n",
       "965  position business analyst personal information...  \n",
       "\n",
       "[966 rows x 3 columns]"
      ]
     },
     "execution_count": 60,
     "metadata": {},
     "output_type": "execute_result"
    }
   ],
   "source": [
    "cleaned_resume_df"
   ]
  },
  {
   "cell_type": "code",
   "execution_count": 61,
   "id": "dd5304e5",
   "metadata": {},
   "outputs": [
    {
     "name": "stdout",
     "output_type": "stream",
     "text": [
      "[962, 963, 964, 965]\n"
     ]
    },
    {
     "data": {
      "text/plain": [
       "962    candidate detail name chen mei mei notice peri...\n",
       "963    candidate detail name xisi notice period avail...\n",
       "964    yang gui fei 101 ang mo kio avenue 1 02 04 sin...\n",
       "965    position business analyst personal information...\n",
       "Name: Processed_Resume, dtype: object"
      ]
     },
     "execution_count": 61,
     "metadata": {},
     "output_type": "execute_result"
    }
   ],
   "source": [
    "newly_added_idx = cleaned_resume_df.index[cleaned_resume_df['Job_Category'].isnull()].tolist()\n",
    "print(newly_added_idx)\n",
    "cleaned_resume_df['Processed_Resume'][newly_added_idx]"
   ]
  },
  {
   "cell_type": "code",
   "execution_count": 62,
   "id": "b7276197",
   "metadata": {},
   "outputs": [
    {
     "name": "stdout",
     "output_type": "stream",
     "text": [
      "[403, 404, 405, 406, 407, 408, 409, 410, 411, 412, 413, 414, 415, 416, 417, 418, 419, 420, 421, 422, 423, 424, 425, 426, 427, 428, 429, 430]\n"
     ]
    }
   ],
   "source": [
    "target_idx = df_resume.index[df_resume['Category'] == 'Business Analyst'].tolist()\n",
    "print(target_idx)"
   ]
  },
  {
   "cell_type": "code",
   "execution_count": 82,
   "id": "52c5ca99",
   "metadata": {},
   "outputs": [],
   "source": [
    "jd = docx2txt.process('./Job_description/REC_Business Analyst.docx')"
   ]
  },
  {
   "cell_type": "code",
   "execution_count": 83,
   "id": "5fcb4e68",
   "metadata": {},
   "outputs": [
    {
     "data": {
      "text/plain": [
       "\"IT Business Analyst\\n\\nREC Solar Pte Ltd\\n\\nTuas\\n\\n\\n\\nJob Highlights\\n\\nRenewable Energy Industry\\n\\nFree Company Transport Islandwide\\n\\nJob Description\\n\\nThe BA Analyst is the primary contact in REC IT for Finance & Project System functional areas. This person is responsible to provide solutions for business needs & support the day-to-day operations; by ensuring business strategy and operational technology needs are shaped and captured appropriately within the enterprise. Then transforming that area’s strategic demands into a feasible set of projects, against resistance to maintain the status quo.\\n\\nA successful BA Analyst must have at least 3 years SAP FICO experience in implementation project or support role.\\n\\nESSENTIAL DUTIES AND RESPONSIBILITIES:\\n\\nBUSINESS ANALYSIS & SUPPORT\\n\\n• Liaise with key users and Business Process Owners (BPO) to identify pain points and problem areas that require IT solution, then capture specific requirements, propose cost effective solution and implement.\\n\\n• Support and / or challenge proposals in line with ROI, to ensure that projects or changes to status quo will deliver benefits prior to entering the design and development phase.\\n\\n• Responsible for managing projects and liaising with external solution providers to deliver solutions in accordance to REC SDLC guidelines.\\n\\n• Prepare and / or maintain up to date business process flows, configuration documents, technical / functional specifications, test scenario / case creation, conduct user acceptance testing & roll-out solutions.\\n\\n• Ensure day-to-day activities, projects / change requests are done in compliance to IT Control (Policies & Procedures).\\n\\n• Resolve day-to-day business application operational issues / requests within SLA.\\n\\n• Support month end closing activities, plus proactively monitor & take actions to avoid wrong postings, wherever applicable. • Establish relationships with end users and other IT members.\\n\\n• Provide training to end users & other IT BA team members.\\n\\nPROBLEM SOLVING\\n\\n• Understands that any given problem may have many good answers, therefore must know how to ask good questions that compel further discussion, research, collaboration and innovation.\\n\\n• Empathise with end users in their needs while also able to manage and align business requirements and IT goals.\\n\\n• Is an effective change agent of innovation.\\n\\nPLANNING AND ORGANISATION\\n\\n• Be responsible for project planning, execution, monitoring and control to deliver quality solutions on time and within budget.\\n\\n• Is attentive to detail and has good analytical skills to understand a wide net of interdependencies to be able to identify, clearly articulate, and proactively mitigate project / change risks.\\n\\nCOMMUNICATION\\n\\n• Have excellent written, visual and verbal communication skills to make persuasive arguments and clearly communicate complex technical concepts to a business audience, and business/commercial concepts to a technical audience.\\n\\n• Effectively communicates relevant project information to stakeholders and can effectively set and manage expectations, and is able to communicate difficult/sensitive information tactfully so that issues are resolved and/or defused in a timely fashion.\\n\\nADDITIONAL RESPONSIBILITIES:\\n\\n• Support for non-ERP business applications like HFM, Readsoft & Power Bi.\\n\\nREQUIRED QUALIFICATIONS AND SKILLS:\\n\\nTechnical/ Professional:\\n\\n• Preferably at least one full project implementation cycle experience in SAP Finance & Project System modules in a manufacturing environment.\\n\\n• Project rollout experience with country specific localizations.\\n\\n• Well developed understanding and working experience on SAP FICO modules such as General Ledger Accounting, Accounts Payable, Accounts Receivable, Asset Accounting, Bank Accounting, Taxation, Consolidation, Special Purpose Ledger, Cost element / Cost center / Profit Center Accounting, Internal orders, Product Cost controlling, Profitability Analysis areas.\\n\\n• Knowledge on FICO integration with MM, PP, PM and SD modules.\\n\\n• Should be fluent with business processes associated with the use of SAP and comfortable with product costing, manufacturing business terms and concepts.\\n\\n• Experience in Business process modeling, re-engineering, optimization.\\n\\n• Experience in Windows Environment, Visio, Power Bi, and other document management tools\\n\\n• Experience in LSMW, ABAP Query, ALV Reports, iDocs\\n\\n• Integration experiences with other legacy or 3rd party systems.\\n\\nADDITIONAL, ADVANTAGEOUS SKILLS:\\n\\n• Working experience on Hyperion (HFM), Readsoft & reporting platforms like Power Bi\\n\\n• Flexibility to meet company timelines and objectives\\n\\n• Must be motivated to create a working environment that results in successful delivery of services for end user satisfaction.\\n\\n▪ Experience in operating ERP / Business Applications with integration to MES systems in a 24x7x365 manufacturing environment\\n\\nOTHER REQUIREMENTS (Physical, Certificates, etc):\\n\\n• Degree in Computer Science or business with min. 3 years of relevant experience\\n\\nAdditional Information\\n\\nCareer Level\\n\\nJunior Executive\\n\\nQualification\\n\\nBachelor's Degree, Post Graduate Diploma, Professional Degree\\n\\nYears of Experience\\n\\n3 years\\n\\nJob Type\\n\\nFull-Time\\n\\nJob Specializations\\n\\nComputer/Information Technology,\\xa0IT-Software\""
      ]
     },
     "execution_count": 83,
     "metadata": {},
     "output_type": "execute_result"
    }
   ],
   "source": [
    "jd"
   ]
  },
  {
   "cell_type": "markdown",
   "id": "8ca20f5a",
   "metadata": {},
   "source": [
    "### Data Clean & Pre-process Added Resumes"
   ]
  },
  {
   "cell_type": "code",
   "execution_count": 65,
   "id": "aec8b17c",
   "metadata": {},
   "outputs": [
    {
     "name": "stderr",
     "output_type": "stream",
     "text": [
      "C:\\Users\\khchu\\AppData\\Local\\Temp/ipykernel_22372/3868876344.py:1: SettingWithCopyWarning: \n",
      "A value is trying to be set on a copy of a slice from a DataFrame\n",
      "\n",
      "See the caveats in the documentation: https://pandas.pydata.org/pandas-docs/stable/user_guide/indexing.html#returning-a-view-versus-a-copy\n",
      "  cleaned_resume_df['Processed_Resume'][newly_added_idx] = cleaned_resume_df['Processed_Resume'][newly_added_idx].apply(unusual_text_remover)\n",
      "C:\\Users\\khchu\\AppData\\Local\\Temp/ipykernel_22372/3868876344.py:2: SettingWithCopyWarning: \n",
      "A value is trying to be set on a copy of a slice from a DataFrame\n",
      "\n",
      "See the caveats in the documentation: https://pandas.pydata.org/pandas-docs/stable/user_guide/indexing.html#returning-a-view-versus-a-copy\n",
      "  cleaned_resume_df['Processed_Resume'][newly_added_idx] = cleaned_resume_df['Processed_Resume'][newly_added_idx].apply(lemmatization)\n"
     ]
    }
   ],
   "source": [
    "cleaned_resume_df['Processed_Resume'][newly_added_idx] = cleaned_resume_df['Processed_Resume'][newly_added_idx].apply(unusual_text_remover)\n",
    "cleaned_resume_df['Processed_Resume'][newly_added_idx] = cleaned_resume_df['Processed_Resume'][newly_added_idx].apply(lemmatization)"
   ]
  },
  {
   "cell_type": "code",
   "execution_count": 66,
   "id": "d63a6a6b",
   "metadata": {},
   "outputs": [
    {
     "data": {
      "text/plain": [
       "962    candidate detail name chen mei mei notice peri...\n",
       "963    candidate detail name xisi notice period avail...\n",
       "964    yang gui fei 101 ang mo kio avenue 1 02 04 sin...\n",
       "965    position business analyst personal information...\n",
       "Name: Processed_Resume, dtype: object"
      ]
     },
     "execution_count": 66,
     "metadata": {},
     "output_type": "execute_result"
    }
   ],
   "source": [
    "cleaned_resume_df['Processed_Resume'][newly_added_idx]"
   ]
  },
  {
   "cell_type": "markdown",
   "id": "139fcb6f",
   "metadata": {},
   "source": [
    "### Data Clean & Pre-process Job Description"
   ]
  },
  {
   "cell_type": "code",
   "execution_count": 67,
   "id": "2cc4fb4d",
   "metadata": {},
   "outputs": [],
   "source": [
    "def stop_words(text):\n",
    "    sentences = []\n",
    "    word_list = word_tokenize(text)\n",
    "    para = [word for word in word_list if word not in stop]\n",
    "    sentences.append(' '.join(para))\n",
    "    return sentences"
   ]
  },
  {
   "cell_type": "code",
   "execution_count": 84,
   "id": "20587c34",
   "metadata": {},
   "outputs": [
    {
     "name": "stdout",
     "output_type": "stream",
     "text": [
      "The word count before Data Cleaning is: 5260\n",
      "The word count after Data Cleaning is: 5000\n",
      "The word count after lemmatization is: 4895\n",
      "The word count after stop-word processing is: 4182\n"
     ]
    }
   ],
   "source": [
    "print(f'The word count before Data Cleaning is: {len(jd)}')\n",
    "jd_cleaned = unusual_text_remover(jd)\n",
    "print(f'The word count after Data Cleaning is: {len(jd_cleaned)}')\n",
    "jd_cleaned = lemmatization(jd_cleaned)\n",
    "print(f'The word count after lemmatization is: {len(jd_cleaned)}')\n",
    "jd_cleaned = stop_words(jd_cleaned)\n",
    "print(f'The word count after stop-word processing is: {len(jd_cleaned[0])}')"
   ]
  },
  {
   "cell_type": "code",
   "execution_count": 47,
   "id": "6bb26335",
   "metadata": {},
   "outputs": [],
   "source": [
    "# doc_score_dict = {}\n",
    "# score_list = []\n",
    "# count = CountVectorizer()\n",
    "# for idx in start_idx:\n",
    "#     text = [sentences[idx], jd_cleanedd[0]]\n",
    "#     count_matrix = count.fit_transform(text)\n",
    "#     score_list.append(cos_sim(count_matrix)[0][1])\n",
    "    \n"
   ]
  },
  {
   "cell_type": "code",
   "execution_count": 69,
   "id": "411b06ba",
   "metadata": {},
   "outputs": [
    {
     "data": {
      "text/plain": [
       "28"
      ]
     },
     "execution_count": 69,
     "metadata": {},
     "output_type": "execute_result"
    }
   ],
   "source": [
    "len(target_idx)"
   ]
  },
  {
   "cell_type": "code",
   "execution_count": 85,
   "id": "7fa6bb7b",
   "metadata": {},
   "outputs": [
    {
     "data": {
      "text/plain": [
       "'business analyst rec solar pte ltd tuas job highlight renewable energy industry free company transport islandwide job description ba analyst primary contact rec finance project system functional area person responsible provide solution business need support day day operation ensuring business strategy operational technology need shaped captured appropriately within enterprise transforming area strategic demand feasible set project resistance maintain status quo successful ba analyst must least 3 year sap fico experience implementation project support role essential duty responsibility business analysis support liaise key user business process owner bpo identify pain point problem area require solution capture specific requirement propose cost effective solution implement support challenge proposal line roi ensure project change status quo deliver benefit prior entering design development phase responsible managing project liaising external solution provider deliver solution accordance rec sdlc guideline prepare maintain date business process flow configuration document technical functional specification test scenario case creation conduct user acceptance testing roll solution ensure day day activity project change request done compliance control policy procedure resolve day day business application operational issue request within sla support month end closing activity plus proactively monitor take action avoid wrong posting wherever applicable establish relationship end user member provide training end user ba team member problem solving understands given problem may many good answer therefore must know ask good question compel discussion research collaboration innovation empathise end user need also able manage align business requirement goal effective change agent innovation planning organisation responsible project planning execution monitoring control deliver quality solution time within budget attentive detail ha good analytical skill understand wide net interdependency able identify clearly articulate proactively mitigate project change risk communication excellent written visual verbal communication skill make persuasive argument clearly communicate complex technical concept business audience business commercial concept technical audience effectively communicates relevant project information stakeholder effectively set manage expectation able communicate difficult sensitive information tactfully issue resolved defused timely fashion additional responsibility support non erp business application like hfm readsoft power bi required qualification skill technical professional preferably least one full project implementation cycle experience sap finance project system module manufacturing environment project rollout experience country specific localization well developed understanding working experience sap fico module general ledger accounting account payable account receivable asset accounting bank accounting taxation consolidation special purpose ledger cost element cost center profit center accounting internal order product cost controlling profitability analysis area knowledge fico integration mm pp pm sd module fluent business process associated use sap comfortable product costing manufacturing business term concept experience business process modeling engineering optimization experience window environment visio power bi document management tool experience lsmw abap query alv report idocs integration experience legacy 3rd party system additional advantageous skill working experience hyperion hfm readsoft reporting platform like power bi flexibility meet company timeline objective must motivated create working environment result successful delivery service end user satisfaction experience operating erp business application integration system 24x7x365 manufacturing environment requirement physical certificate etc degree computer science business min 3 year relevant experience additional information career level junior executive qualification bachelor degree post graduate diploma professional degree year experience 3 year job type full time job specialization computer information technology software'"
      ]
     },
     "execution_count": 85,
     "metadata": {},
     "output_type": "execute_result"
    }
   ],
   "source": [
    "jd_cleaned[0]"
   ]
  },
  {
   "cell_type": "code",
   "execution_count": 88,
   "id": "d774c4c5",
   "metadata": {},
   "outputs": [],
   "source": [
    "doc_score_dict = {}\n",
    "score_list = []\n",
    "tfidf_vect = TfidfVectorizer()\n",
    "for idx in target_idx:\n",
    "    text = [ cleaned_resume_df['Processed_Resume'][idx], jd_cleaned[0]]\n",
    "    count_matrix = tfidf_vect.fit_transform(text)\n",
    "    score_list.append(cos_sim(count_matrix)[0][1])"
   ]
  },
  {
   "cell_type": "code",
   "execution_count": 50,
   "id": "64fc27c2",
   "metadata": {},
   "outputs": [
    {
     "ename": "NameError",
     "evalue": "name 'jd_cleanedd' is not defined",
     "output_type": "error",
     "traceback": [
      "\u001b[1;31m---------------------------------------------------------------------------\u001b[0m",
      "\u001b[1;31mNameError\u001b[0m                                 Traceback (most recent call last)",
      "\u001b[1;32m~\\AppData\\Local\\Temp/ipykernel_22372/1054275700.py\u001b[0m in \u001b[0;36m<module>\u001b[1;34m\u001b[0m\n\u001b[0;32m      3\u001b[0m \u001b[0mtfidf_vect\u001b[0m \u001b[1;33m=\u001b[0m \u001b[0mTfidfVectorizer\u001b[0m\u001b[1;33m(\u001b[0m\u001b[1;33m)\u001b[0m\u001b[1;33m\u001b[0m\u001b[1;33m\u001b[0m\u001b[0m\n\u001b[0;32m      4\u001b[0m \u001b[1;32mfor\u001b[0m \u001b[0midx\u001b[0m \u001b[1;32min\u001b[0m \u001b[0mtarget_idx\u001b[0m\u001b[1;33m:\u001b[0m\u001b[1;33m\u001b[0m\u001b[1;33m\u001b[0m\u001b[0m\n\u001b[1;32m----> 5\u001b[1;33m     \u001b[0mtext\u001b[0m \u001b[1;33m=\u001b[0m \u001b[1;33m[\u001b[0m\u001b[0msentences\u001b[0m\u001b[1;33m[\u001b[0m\u001b[0midx\u001b[0m\u001b[1;33m]\u001b[0m\u001b[1;33m,\u001b[0m \u001b[0mjd_cleanedd\u001b[0m\u001b[1;33m[\u001b[0m\u001b[1;36m0\u001b[0m\u001b[1;33m]\u001b[0m\u001b[1;33m]\u001b[0m\u001b[1;33m\u001b[0m\u001b[1;33m\u001b[0m\u001b[0m\n\u001b[0m\u001b[0;32m      6\u001b[0m     \u001b[0mcount_matrix\u001b[0m \u001b[1;33m=\u001b[0m \u001b[0mtfidf_vect\u001b[0m\u001b[1;33m.\u001b[0m\u001b[0mfit_transform\u001b[0m\u001b[1;33m(\u001b[0m\u001b[0mtext\u001b[0m\u001b[1;33m)\u001b[0m\u001b[1;33m\u001b[0m\u001b[1;33m\u001b[0m\u001b[0m\n\u001b[0;32m      7\u001b[0m     \u001b[0mscore_list\u001b[0m\u001b[1;33m.\u001b[0m\u001b[0mappend\u001b[0m\u001b[1;33m(\u001b[0m\u001b[0mcos_sim\u001b[0m\u001b[1;33m(\u001b[0m\u001b[0mcount_matrix\u001b[0m\u001b[1;33m)\u001b[0m\u001b[1;33m[\u001b[0m\u001b[1;36m0\u001b[0m\u001b[1;33m]\u001b[0m\u001b[1;33m[\u001b[0m\u001b[1;36m1\u001b[0m\u001b[1;33m]\u001b[0m\u001b[1;33m)\u001b[0m\u001b[1;33m\u001b[0m\u001b[1;33m\u001b[0m\u001b[0m\n",
      "\u001b[1;31mNameError\u001b[0m: name 'jd_cleanedd' is not defined"
     ]
    }
   ],
   "source": [
    "# doc_score_dict = {}\n",
    "# score_list = []\n",
    "# tfidf_vect = TfidfVectorizer()\n",
    "# for idx in target_idx:\n",
    "#     text = [sentences[idx], jd_cleanedd[0]]\n",
    "#     count_matrix = tfidf_vect.fit_transform(text)\n",
    "#     score_list.append(cos_sim(count_matrix)[0][1])"
   ]
  },
  {
   "cell_type": "code",
   "execution_count": 89,
   "id": "2745a024",
   "metadata": {},
   "outputs": [
    {
     "data": {
      "text/plain": [
       "[0.2514837149129732,\n",
       " 0.2306041893488001,\n",
       " 0.2845115225687753,\n",
       " 0.3394261643001139,\n",
       " 0.1538982790745994,\n",
       " 0.12333430581073014,\n",
       " 0.2845115225687753,\n",
       " 0.3394261643001139,\n",
       " 0.1538982790745994,\n",
       " 0.12333430581073014,\n",
       " 0.2845115225687753,\n",
       " 0.3394261643001139,\n",
       " 0.1538982790745994,\n",
       " 0.12333430581073014,\n",
       " 0.2514837149129732,\n",
       " 0.2306041893488001,\n",
       " 0.2845115225687753,\n",
       " 0.3394261643001139,\n",
       " 0.1538982790745994,\n",
       " 0.12333430581073014,\n",
       " 0.2845115225687753,\n",
       " 0.3394261643001139,\n",
       " 0.1538982790745994,\n",
       " 0.12333430581073014,\n",
       " 0.2845115225687753,\n",
       " 0.3394261643001139,\n",
       " 0.1538982790745994,\n",
       " 0.12333430581073014]"
      ]
     },
     "execution_count": 89,
     "metadata": {},
     "output_type": "execute_result"
    }
   ],
   "source": [
    "score_list"
   ]
  },
  {
   "cell_type": "code",
   "execution_count": 91,
   "id": "7c3b2d30",
   "metadata": {},
   "outputs": [],
   "source": [
    "doc_score_dict = { idx : round(score_list[idx], 3) for idx in range(len(score_list))}"
   ]
  },
  {
   "cell_type": "code",
   "execution_count": 92,
   "id": "8b61c74f",
   "metadata": {},
   "outputs": [
    {
     "data": {
      "text/plain": [
       "28"
      ]
     },
     "execution_count": 92,
     "metadata": {},
     "output_type": "execute_result"
    }
   ],
   "source": [
    "len(doc_score_dict)"
   ]
  },
  {
   "cell_type": "code",
   "execution_count": 93,
   "id": "4447e67a",
   "metadata": {},
   "outputs": [],
   "source": [
    "def rank_score(dict):\n",
    "    rank = int(round(len(dict) * 0.2 , 0))\n",
    "    sorted_dict = sorted(dict, key=dict.get, reverse=True)\n",
    "    for val in sorted_dict[:rank]:\n",
    "        print(f'{val} : {dict[val]}') "
   ]
  },
  {
   "cell_type": "code",
   "execution_count": 94,
   "id": "24bae150",
   "metadata": {
    "scrolled": true
   },
   "outputs": [
    {
     "name": "stdout",
     "output_type": "stream",
     "text": [
      "3 : 0.339\n",
      "7 : 0.339\n",
      "11 : 0.339\n",
      "17 : 0.339\n",
      "21 : 0.339\n",
      "25 : 0.339\n"
     ]
    }
   ],
   "source": [
    "rank_score(doc_score_dict)"
   ]
  },
  {
   "cell_type": "code",
   "execution_count": null,
   "id": "5d9be4fd",
   "metadata": {},
   "outputs": [],
   "source": []
  }
 ],
 "metadata": {
  "kernelspec": {
   "display_name": "Python 3 (ipykernel)",
   "language": "python",
   "name": "python3"
  },
  "language_info": {
   "codemirror_mode": {
    "name": "ipython",
    "version": 3
   },
   "file_extension": ".py",
   "mimetype": "text/x-python",
   "name": "python",
   "nbconvert_exporter": "python",
   "pygments_lexer": "ipython3",
   "version": "3.9.7"
  }
 },
 "nbformat": 4,
 "nbformat_minor": 5
}
